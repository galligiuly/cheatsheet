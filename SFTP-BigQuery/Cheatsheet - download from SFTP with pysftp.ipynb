{
 "cells": [
  {
   "cell_type": "markdown",
   "metadata": {},
   "source": [
    "## Cheatsheet - download from SFTP with pysftp - Financial purpose"
   ]
  },
  {
   "cell_type": "markdown",
   "metadata": {},
   "source": [
    "How download csv file from SFTP. Here the code with pysftp.\n",
    "\n",
    "The purpose in my case is to acumulate all finalncial transactions from the payment gateway"
   ]
  },
  {
   "cell_type": "code",
   "execution_count": null,
   "metadata": {},
   "outputs": [],
   "source": [
    "# in case the library is not installed\n",
    "\n",
    "import pysftp"
   ]
  },
  {
   "cell_type": "markdown",
   "metadata": {},
   "source": [
    "### Formatting the file name"
   ]
  },
  {
   "cell_type": "code",
   "execution_count": null,
   "metadata": {},
   "outputs": [],
   "source": [
    "# In my case the needed is download all transactions from the day before the current one\n",
    "# I'll use datetime to reach the purpose\n",
    "\n",
    "from datetime import datetime, timedelta\n",
    "\n",
    "date = datetime.today() - timedelta(days=1)\n",
    "year = date.year\n",
    "month = date.month\n",
    "day = date.day\n",
    "\n",
    "file_name = \"PATTERN-FILE-NAME_{}_{:02d}_{:02d}.csv\".format(year, month, day) # 2 digits on month and day ## for more information visit https://pyformat.info/\n",
    "\n",
    "print (file_name)"
   ]
  },
  {
   "cell_type": "markdown",
   "metadata": {},
   "source": [
    "### Connection to one sftp - result: one file .csv"
   ]
  },
  {
   "cell_type": "code",
   "execution_count": null,
   "metadata": {},
   "outputs": [],
   "source": [
    "myHostname = \"YOURSERVERDOMAINORIP.COM\"\n",
    "myUsername = \"ROOT\"\n",
    "myPassword = \"12345\""
   ]
  },
  {
   "cell_type": "code",
   "execution_count": null,
   "metadata": {},
   "outputs": [],
   "source": [
    "# First way\n",
    "\n",
    "cnopts = pysftp.CnOpts()\n",
    "cnopts.hostkeys = None\n",
    "\n",
    "with pysftp.Connection(host=myHostname, username=myUsername, password=myPassword, cnopts=cnopts) as sftp:\n",
    "    print (\"Connection succesfully stablished ... \")\n",
    "    remoteFilePath = '/FTP-DIRECTORY/'+file_name\n",
    "    localFilePath = '/LOCAL-FILE-DIRECTORY/'+file_name\n",
    "    sftp.get(remoteFilePath, localFilePath, callback=None) "
   ]
  },
  {
   "cell_type": "code",
   "execution_count": null,
   "metadata": {},
   "outputs": [],
   "source": [
    "# Second way\n",
    "\n",
    "# Defining the function to create the connection  \n",
    "\n",
    "def create_connection(host, port, username, password):\n",
    "        cnopts = pysftp.CnOpts()\n",
    "        cnopts.hostkeys = None\n",
    "\n",
    "        try:\n",
    "            conn = pysftp.Connection(host,\n",
    "                                     port=port,\n",
    "                                     username=username,\n",
    "                                     password=password,\n",
    "                                     cnopts=cnopts)\n",
    "            return conn\n",
    "\n",
    "        except Exception as error:\n",
    "            print(\"ERROR: impossible to create connection\")\n",
    "\n",
    "\n",
    "# Defining the function to download the .csv to the path indicated (using create_connection function)\n",
    "\n",
    "def download_file(conn, remoteFilePath, localFilePath):\n",
    "    conn.get(remoteFilePath, localFilePath, callback=None)\n",
    "\n",
    "\n",
    "# Iterating all accounts and creating the final accumulated one\n",
    "\n",
    "conn = create_connection(account[\"myHostname\"], account[\"myPort\"], account[\"myUsername\"], account[\"myPassword\"])\n",
    "print (\"Connection succesfully stablished ... \")\n",
    "download_file(conn, '/FTP-DIRECTORY/'+file_name, '/LOCAL-FILE-DIRECTORY/'+file_name)\n",
    "conn.close()"
   ]
  },
  {
   "cell_type": "markdown",
   "metadata": {},
   "source": [
    "#### Connection to multiple sftp - result: one accumulated file .csv"
   ]
  },
  {
   "cell_type": "code",
   "execution_count": null,
   "metadata": {},
   "outputs": [],
   "source": [
    "# Using list of dictionaries to iterate on each account\n",
    "\n",
    "accounts = [\n",
    "    {\n",
    "      \"myAccount\": \"ACCOUNT-NAME-1\",\n",
    "      \"myHostname\": \"YOURSERVERDOMAINORIP.COM-1\",\n",
    "      \"myUsername\": \"ROOT-1\",\n",
    "      \"myPassword\": \"12345-1\",\n",
    "      \"myPort\": 22\n",
    "    },\n",
    "    {\n",
    "      \"myAccount\": \"ACCOUNT-NAME-2\",\n",
    "      \"myHostname\": \"YOURSERVERDOMAINORIP.COM-2\",\n",
    "      \"myUsername\": \"ROOT-2\",\n",
    "      \"myPassword\": \"12345-2\",\n",
    "      \"myPort\": 22\n",
    "    }\n",
    "]"
   ]
  },
  {
   "cell_type": "code",
   "execution_count": null,
   "metadata": {},
   "outputs": [],
   "source": [
    "# Pandas will help to iterate on each account and concat the data to a final df\n",
    "\n",
    "import pandas as pd"
   ]
  },
  {
   "cell_type": "code",
   "execution_count": null,
   "metadata": {},
   "outputs": [],
   "source": []
  },
  {
   "cell_type": "code",
   "execution_count": null,
   "metadata": {},
   "outputs": [],
   "source": [
    "# Defining the function to create the connection  \n",
    "\n",
    "def create_connection(host, port, username, password):\n",
    "        cnopts = pysftp.CnOpts()\n",
    "        cnopts.hostkeys = None\n",
    "\n",
    "        try:\n",
    "            conn = pysftp.Connection(host,\n",
    "                                     port=port,\n",
    "                                     username=username,\n",
    "                                     password=password,\n",
    "                                     cnopts=cnopts)\n",
    "            return conn\n",
    "\n",
    "        except Exception as error:\n",
    "            print(\"ERROR: impossible to create connection\")\n",
    "\n",
    "\n",
    "# Defining the function to download the .csv to the path indicated (using create_connection function)\n",
    "\n",
    "def download_file(conn, remoteFilePath, localFilePath):\n",
    "    conn.get(remoteFilePath, localFilePath, callback=None)\n",
    "\n",
    "\n",
    "# Iterating all accounts and creating the final accumulated one\n",
    "\n",
    "columns = [\"NAMES\",\"OF\",\"COLUMNS\",\"IN\",\"YOUR\",\"CSV\"] # In case is needed standardize the names of the columns\n",
    "concatenated_df = pd.DataFrame(columns=columns)\n",
    "\n",
    "for account in accounts:\n",
    "    print(\"downloading \" + account[\"myAccount\"])\n",
    "    conn = create_connection(account[\"myHostname\"], account[\"myPort\"], account[\"myUsername\"], account[\"myPassword\"])\n",
    "    download_file(conn, '/FTP-DIRECTORY/'+file_name, '/LOCAL-FILE-DIRECTORY/'+file_name)\n",
    "    conn.close()\n",
    "\n",
    "    df = pd.read_csv('/LOCAL-FILE-DIRECTORY/'+file_name) \n",
    "    \n",
    "    print(df.shape)\n",
    "    \n",
    "    if len(df.index) < 1: # excluding empty df\n",
    "        print(\"empty file \" + file_name)\n",
    "        continue\n",
    "        \n",
    "    concatenated_df = pd.concat([concatenated_df, df])\n",
    "\n",
    "concatenated_df.to_csv('/LOCAL-FILE-DIRECTORY/' + file_name) # convert the df to .csv file\n"
   ]
  }
 ],
 "metadata": {
  "kernelspec": {
   "display_name": "Python 3",
   "language": "python",
   "name": "python3"
  },
  "language_info": {
   "codemirror_mode": {
    "name": "ipython",
    "version": 3
   },
   "file_extension": ".py",
   "mimetype": "text/x-python",
   "name": "python",
   "nbconvert_exporter": "python",
   "pygments_lexer": "ipython3",
   "version": "3.6.7"
  }
 },
 "nbformat": 4,
 "nbformat_minor": 2
}
